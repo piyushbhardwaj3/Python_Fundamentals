{
 "cells": [
  {
   "cell_type": "code",
   "execution_count": null,
   "id": "ca3d8d00",
   "metadata": {},
   "outputs": [],
   "source": [
    "Continuation with strings:"
   ]
  },
  {
   "cell_type": "code",
   "execution_count": null,
   "id": "e90421e3",
   "metadata": {},
   "outputs": [],
   "source": [
    "Introduction to f string:"
   ]
  },
  {
   "cell_type": "code",
   "execution_count": null,
   "id": "dde29996",
   "metadata": {},
   "outputs": [],
   "source": [
    "#General syntax of f strings:\n",
    "f\" Custom Words {placeholder1} {placeholder2}...{placeholder...n}\""
   ]
  },
  {
   "cell_type": "code",
   "execution_count": 8,
   "id": "b1b21db4",
   "metadata": {},
   "outputs": [],
   "source": [
    "firstname='Yuvi'\n",
    "lastname='Bhardwaj'"
   ]
  },
  {
   "cell_type": "code",
   "execution_count": 9,
   "id": "1b9ee182",
   "metadata": {},
   "outputs": [],
   "source": [
    "# want to get fullname?"
   ]
  },
  {
   "cell_type": "code",
   "execution_count": 10,
   "id": "64564c04",
   "metadata": {},
   "outputs": [
    {
     "name": "stdout",
     "output_type": "stream",
     "text": [
      " Yuvi Bhardwaj\n"
     ]
    }
   ],
   "source": [
    "fullname = f\" {firstname} {lastname}\"\n",
    "print(fullname)"
   ]
  },
  {
   "cell_type": "code",
   "execution_count": 6,
   "id": "09601ade",
   "metadata": {},
   "outputs": [
    {
     "name": "stdout",
     "output_type": "stream",
     "text": [
      "Hello,  Yuvi Bhardwaj\n"
     ]
    }
   ],
   "source": [
    "print(f\"Hello, {fullname.title()}\")"
   ]
  },
  {
   "cell_type": "code",
   "execution_count": null,
   "id": "f7f0c8c9",
   "metadata": {},
   "outputs": [],
   "source": []
  },
  {
   "cell_type": "code",
   "execution_count": null,
   "id": "3606ac2d",
   "metadata": {},
   "outputs": [],
   "source": [
    "Adding white spaces to strings: \n",
    "\\n --> new line delimeter, it will print from newline\n",
    "\\t --> Tab Delimeter, it will insert tab\n",
    "    "
   ]
  },
  {
   "cell_type": "code",
   "execution_count": 12,
   "id": "1fda3ba6",
   "metadata": {},
   "outputs": [
    {
     "name": "stdout",
     "output_type": "stream",
     "text": [
      "Favourite_Language:\n",
      "\tPyhton\n",
      "\tC#\n",
      "\tJava\n",
      "\tCobol\n",
      "\tJavaScript\n"
     ]
    }
   ],
   "source": [
    "print(\"Favourite_Language:\\n\\tPyhton\\n\\tC#\\n\\tJava\\n\\tCobol\\n\\tJavaScript\")"
   ]
  },
  {
   "cell_type": "code",
   "execution_count": null,
   "id": "4dcaf1e0",
   "metadata": {},
   "outputs": [],
   "source": [
    "Removing white spaces from string: \n",
    "lstrip --> to remove white spaces from left side of string\n",
    "rtrip --> to remove white spaces from right side of string\n",
    "strip --> remove spaces from both left and right side"
   ]
  },
  {
   "cell_type": "code",
   "execution_count": 26,
   "id": "f2476df7",
   "metadata": {},
   "outputs": [
    {
     "name": "stdout",
     "output_type": "stream",
     "text": [
      "Left Trim Yuvi \n",
      "Right Trim  Yuvi\n",
      "Trim from both left and right side\n",
      "Yuvi\n"
     ]
    }
   ],
   "source": [
    "name=\" Yuvi \"\n",
    "print(f\"Left Trim {name.lstrip()}\")\n",
    "print(f\"Right Trim {name.rstrip()}\")\n",
    "print(f\"Trim from both left and right side\\n{name.strip()}\")\n"
   ]
  },
  {
   "cell_type": "code",
   "execution_count": 27,
   "id": "b23b6558",
   "metadata": {},
   "outputs": [
    {
     "name": "stdout",
     "output_type": "stream",
     "text": [
      "Hi Yuvi \n"
     ]
    }
   ],
   "source": [
    "print(\"Hi\"+name)"
   ]
  },
  {
   "cell_type": "code",
   "execution_count": null,
   "id": "3441cbd2",
   "metadata": {},
   "outputs": [],
   "source": []
  }
 ],
 "metadata": {
  "kernelspec": {
   "display_name": "Python 3",
   "language": "python",
   "name": "python3"
  },
  "language_info": {
   "codemirror_mode": {
    "name": "ipython",
    "version": 3
   },
   "file_extension": ".py",
   "mimetype": "text/x-python",
   "name": "python",
   "nbconvert_exporter": "python",
   "pygments_lexer": "ipython3",
   "version": "3.8.8"
  }
 },
 "nbformat": 4,
 "nbformat_minor": 5
}
