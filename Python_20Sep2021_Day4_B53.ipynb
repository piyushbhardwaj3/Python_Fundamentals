{
 "cells": [
  {
   "cell_type": "code",
   "execution_count": null,
   "id": "d204b5ae",
   "metadata": {},
   "outputs": [],
   "source": [
    "Introduction to List Data Type: Collection of items in a particular order --> MUTABLE Data Type"
   ]
  },
  {
   "cell_type": "code",
   "execution_count": 13,
   "id": "43bc0f0c",
   "metadata": {},
   "outputs": [
    {
     "name": "stdout",
     "output_type": "stream",
     "text": [
      "['Anupriya', 'Piyush', 'Yuvi']\n"
     ]
    }
   ],
   "source": [
    "students=['Anupriya','Piyush','Yuvi']\n",
    "print(students)"
   ]
  },
  {
   "cell_type": "code",
   "execution_count": null,
   "id": "53080dd8",
   "metadata": {},
   "outputs": [],
   "source": [
    "Introduction to Index ; 0,1,2,3"
   ]
  },
  {
   "cell_type": "code",
   "execution_count": 2,
   "id": "12aadc17",
   "metadata": {},
   "outputs": [
    {
     "name": "stdout",
     "output_type": "stream",
     "text": [
      "Yuvi\n"
     ]
    }
   ],
   "source": [
    "print(students[2])"
   ]
  },
  {
   "cell_type": "code",
   "execution_count": null,
   "id": "c5cf9fb3",
   "metadata": {},
   "outputs": [],
   "source": []
  },
  {
   "cell_type": "code",
   "execution_count": 14,
   "id": "f7d8d891",
   "metadata": {},
   "outputs": [
    {
     "name": "stdout",
     "output_type": "stream",
     "text": [
      "['Anupriya', 'Piyush', 'Yuvi', 'Simba']\n"
     ]
    }
   ],
   "source": [
    "#1. Add new elements to the list --> By default element will be added at the end of the list\n",
    "students.append('Simba')\n",
    "print(students)\n",
    "\n",
    "# Add element at a specific position in the List\n",
    "students.insert(2,'Buffy')\n",
    "print(students)"
   ]
  },
  {
   "cell_type": "code",
   "execution_count": 16,
   "id": "81b5f615",
   "metadata": {},
   "outputs": [
    {
     "name": "stdout",
     "output_type": "stream",
     "text": [
      "['Anupriya', 'Piyush', 'Buffy', 'Buffy', 'Yuvi', 'Simba']\n"
     ]
    }
   ],
   "source": []
  },
  {
   "cell_type": "code",
   "execution_count": 18,
   "id": "4b4952a6",
   "metadata": {},
   "outputs": [
    {
     "name": "stdout",
     "output_type": "stream",
     "text": [
      "['Anupriya', 'Piyush', 'Buffy', 'Baleno', 'Yuvi', 'Simba']\n"
     ]
    }
   ],
   "source": [
    "#2. Modify the elements in list -- Modify 'Buffy' at index 3 to 'Baleno'\n",
    "students[3]='Baleno'\n",
    "print(students)"
   ]
  },
  {
   "cell_type": "code",
   "execution_count": 19,
   "id": "466d46f3",
   "metadata": {},
   "outputs": [
    {
     "name": "stdout",
     "output_type": "stream",
     "text": [
      "['Anupriya', 'Piyush', 'Buffy', 'Yuvi', 'Simba']\n"
     ]
    }
   ],
   "source": [
    "#3. Delete elements from the list --> Delete Baleno (index=3) from the list\n",
    "del students[3]\n",
    "print(students)\n",
    "\n",
    "\n"
   ]
  },
  {
   "cell_type": "code",
   "execution_count": null,
   "id": "7d14d8a9",
   "metadata": {},
   "outputs": [],
   "source": [
    "#temporary deleting items in list --> \n",
    "pop() --> it will delete the item temporarily.\n",
    "It will be creating carbon copy of the deleted items.\n",
    "By default pop() method will be deleting items from the end in the list.\n",
    "we can also define custom index that we want to delete."
   ]
  },
  {
   "cell_type": "code",
   "execution_count": 20,
   "id": "9b266fd0",
   "metadata": {},
   "outputs": [
    {
     "name": "stdout",
     "output_type": "stream",
     "text": [
      "['Anupriya', 'Piyush', 'Buffy', 'Yuvi']\n"
     ]
    }
   ],
   "source": [
    "x=students.pop()\n",
    "print(students)   #--> last element 'Simba' is deleted temporarily"
   ]
  },
  {
   "cell_type": "code",
   "execution_count": 21,
   "id": "bbce650a",
   "metadata": {},
   "outputs": [
    {
     "name": "stdout",
     "output_type": "stream",
     "text": [
      "Simba\n"
     ]
    }
   ],
   "source": [
    "print(x) #--> x has temporarily saved the value of Simba"
   ]
  },
  {
   "cell_type": "code",
   "execution_count": 22,
   "id": "8fdb406c",
   "metadata": {},
   "outputs": [
    {
     "name": "stdout",
     "output_type": "stream",
     "text": [
      "['Anupriya', 'Buffy', 'Yuvi']\n"
     ]
    }
   ],
   "source": [
    "a=students.pop(1)\n",
    "print(students) #-->temporarily deleted 'piyush' at index 1 and saved it to variable a"
   ]
  },
  {
   "cell_type": "code",
   "execution_count": 23,
   "id": "a728d04a",
   "metadata": {},
   "outputs": [
    {
     "name": "stdout",
     "output_type": "stream",
     "text": [
      "Piyush\n"
     ]
    }
   ],
   "source": [
    "print(a)"
   ]
  },
  {
   "cell_type": "code",
   "execution_count": null,
   "id": "781148cc",
   "metadata": {},
   "outputs": [],
   "source": []
  },
  {
   "cell_type": "code",
   "execution_count": null,
   "id": "6c4f314f",
   "metadata": {},
   "outputs": [],
   "source": []
  },
  {
   "cell_type": "code",
   "execution_count": null,
   "id": "290b0a1f",
   "metadata": {},
   "outputs": [],
   "source": []
  }
 ],
 "metadata": {
  "kernelspec": {
   "display_name": "Python 3",
   "language": "python",
   "name": "python3"
  },
  "language_info": {
   "codemirror_mode": {
    "name": "ipython",
    "version": 3
   },
   "file_extension": ".py",
   "mimetype": "text/x-python",
   "name": "python",
   "nbconvert_exporter": "python",
   "pygments_lexer": "ipython3",
   "version": "3.8.8"
  }
 },
 "nbformat": 4,
 "nbformat_minor": 5
}
