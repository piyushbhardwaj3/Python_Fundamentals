{
 "cells": [
  {
   "cell_type": "code",
   "execution_count": null,
   "id": "225c7c24",
   "metadata": {},
   "outputs": [],
   "source": [
    "Continuation with List Data Type:"
   ]
  },
  {
   "cell_type": "code",
   "execution_count": null,
   "id": "f3de20ee",
   "metadata": {},
   "outputs": [],
   "source": [
    "Organizing List Data Type : # Sort list in alphabetical order\n",
    "    There are 2 aproaches:\n",
    "        1. Temporary Approach --> sorted() --> Original order of list will be retained\n",
    "        2. Permanent Approach --> sort() --> Permanent sorting, can't go back to original order of list"
   ]
  },
  {
   "cell_type": "code",
   "execution_count": 4,
   "id": "c6a2807c",
   "metadata": {},
   "outputs": [
    {
     "name": "stdout",
     "output_type": "stream",
     "text": [
      "['bmw', 'Triber', 'Baleno', 'Ciaz', 'Audi']\n",
      "['Audi', 'Baleno', 'Ciaz', 'Triber', 'bmw']\n",
      "['bmw', 'Triber', 'Baleno', 'Ciaz', 'Audi']\n"
     ]
    }
   ],
   "source": [
    "cars=['bmw','Triber','Baleno','Ciaz','Audi']\n",
    "print(cars)\n",
    "print(sorted(cars)) # Temporary sorting \n",
    "print(cars) #as now it is showing original list again"
   ]
  },
  {
   "cell_type": "code",
   "execution_count": 5,
   "id": "1a298fdd",
   "metadata": {},
   "outputs": [
    {
     "name": "stdout",
     "output_type": "stream",
     "text": [
      "['Audi', 'Baleno', 'Ciaz', 'Triber', 'bmw']\n"
     ]
    }
   ],
   "source": [
    "cars.sort() # Permanent Sorting\n",
    "print(cars) #it is showing the sorted list"
   ]
  },
  {
   "cell_type": "code",
   "execution_count": null,
   "id": "339bdb4d",
   "metadata": {},
   "outputs": [],
   "source": []
  },
  {
   "cell_type": "code",
   "execution_count": 10,
   "id": "e0767a9c",
   "metadata": {},
   "outputs": [
    {
     "name": "stdout",
     "output_type": "stream",
     "text": [
      "['bmw', 'Triber', 'Ciaz', 'Baleno', 'Audi']\n"
     ]
    }
   ],
   "source": [
    "#Print List in reverse order\n",
    "cars.reverse()\n",
    "print(cars)"
   ]
  },
  {
   "cell_type": "code",
   "execution_count": 11,
   "id": "84ab0484",
   "metadata": {},
   "outputs": [
    {
     "data": {
      "text/plain": [
       "5"
      ]
     },
     "execution_count": 11,
     "metadata": {},
     "output_type": "execute_result"
    }
   ],
   "source": [
    "#Count list of elements in list\n",
    "len(cars)"
   ]
  },
  {
   "cell_type": "code",
   "execution_count": 14,
   "id": "79b9e9cc",
   "metadata": {},
   "outputs": [
    {
     "name": "stdout",
     "output_type": "stream",
     "text": [
      "Bmw\n"
     ]
    }
   ],
   "source": [
    "print(cars[0].title())"
   ]
  },
  {
   "cell_type": "code",
   "execution_count": 15,
   "id": "b1be0511",
   "metadata": {},
   "outputs": [
    {
     "name": "stdout",
     "output_type": "stream",
     "text": [
      "['bmw', 'Triber', 'Ciaz', 'Baleno', 'Audi']\n"
     ]
    }
   ],
   "source": [
    "print(cars)"
   ]
  },
  {
   "cell_type": "code",
   "execution_count": null,
   "id": "b1b4af18",
   "metadata": {},
   "outputs": [],
   "source": []
  },
  {
   "cell_type": "raw",
   "id": "b8443b4f",
   "metadata": {},
   "source": [
    "Introduction to slicing:"
   ]
  },
  {
   "cell_type": "code",
   "execution_count": 17,
   "id": "e761110f",
   "metadata": {},
   "outputs": [
    {
     "name": "stdout",
     "output_type": "stream",
     "text": [
      "['Anupriya', 'Piyush', 'Yuvi', 'Mylo', 'Simba']\n"
     ]
    }
   ],
   "source": [
    "students=['Anupriya','Piyush','Yuvi','Mylo','Simba']\n",
    "print(students)"
   ]
  },
  {
   "cell_type": "code",
   "execution_count": null,
   "id": "8046a1da",
   "metadata": {},
   "outputs": [],
   "source": [
    "#General syntax of slicing --> startvalue:stopvalue:stepcount\n",
    "NOTE: stopvalue is always exclusive, to include the stop value we have to add +1"
   ]
  },
  {
   "cell_type": "code",
   "execution_count": 24,
   "id": "d042779f",
   "metadata": {},
   "outputs": [
    {
     "name": "stdout",
     "output_type": "stream",
     "text": [
      "['Anupriya', 'Piyush']\n",
      "['Yuvi', 'Mylo']\n"
     ]
    }
   ],
   "source": [
    "#Requirement 1 : Want to add Anupriya and Piyush in a slice\n",
    "print(students[0:2]) #startvalue=0 #stopvalue=2\n",
    "print(students[2:4])"
   ]
  },
  {
   "cell_type": "code",
   "execution_count": 29,
   "id": "862eaf3a",
   "metadata": {},
   "outputs": [
    {
     "name": "stdout",
     "output_type": "stream",
     "text": [
      "['Anupriya', 'Mylo']\n"
     ]
    }
   ],
   "source": [
    "#stepcount --> for example to include alternate items \n",
    "print(students[0:5:3])"
   ]
  },
  {
   "cell_type": "code",
   "execution_count": null,
   "id": "1582d854",
   "metadata": {},
   "outputs": [],
   "source": []
  }
 ],
 "metadata": {
  "kernelspec": {
   "display_name": "Python 3",
   "language": "python",
   "name": "python3"
  },
  "language_info": {
   "codemirror_mode": {
    "name": "ipython",
    "version": 3
   },
   "file_extension": ".py",
   "mimetype": "text/x-python",
   "name": "python",
   "nbconvert_exporter": "python",
   "pygments_lexer": "ipython3",
   "version": "3.8.8"
  }
 },
 "nbformat": 4,
 "nbformat_minor": 5
}
