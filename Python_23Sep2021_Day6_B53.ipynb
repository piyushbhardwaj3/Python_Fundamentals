{
 "cells": [
  {
   "cell_type": "code",
   "execution_count": null,
   "id": "809a4c4f",
   "metadata": {},
   "outputs": [],
   "source": [
    "Continuation with Lists:"
   ]
  },
  {
   "cell_type": "code",
   "execution_count": 5,
   "id": "9097211d",
   "metadata": {},
   "outputs": [
    {
     "name": "stdout",
     "output_type": "stream",
     "text": [
      "Good work, Anupriya\n"
     ]
    }
   ],
   "source": [
    "# Appreciate a student from list\n",
    "students=['Anupriya','Piyush','Yuvi']\n",
    "print(f\"Good work, {students[0]}\")"
   ]
  },
  {
   "cell_type": "code",
   "execution_count": null,
   "id": "c1082eb9",
   "metadata": {},
   "outputs": [],
   "source": [
    "# What if I want to appreciate all students, will need to use LOOP to automate"
   ]
  },
  {
   "cell_type": "code",
   "execution_count": null,
   "id": "5fd895e3",
   "metadata": {},
   "outputs": [],
   "source": [
    "Introduction to Looping statemnets:\n",
    "    Syntax : \n",
    "        for tempvar in mainvar:\n",
    "        print(tempvar)                   "
   ]
  },
  {
   "cell_type": "code",
   "execution_count": 11,
   "id": "cc791ddf",
   "metadata": {},
   "outputs": [
    {
     "name": "stdout",
     "output_type": "stream",
     "text": [
      "Keep up the goodwork everybody you are doing a great job, Anupriya\n",
      "Keep up the goodwork everybody you are doing a great job, Piyush\n",
      "Keep up the goodwork everybody you are doing a great job, Yuvi\n"
     ]
    }
   ],
   "source": [
    "for x in students:\n",
    "    print(f\"Keep up the goodwork, {x}\")  #here the tab (indentation) is compulsory before print() otherwise it will throw error \"Expected an indented block\""
   ]
  },
  {
   "cell_type": "code",
   "execution_count": null,
   "id": "83ccae72",
   "metadata": {},
   "outputs": [],
   "source": [
    "#Enhancement of the code : to print systematic output"
   ]
  },
  {
   "cell_type": "code",
   "execution_count": 13,
   "id": "5cfb6ca8",
   "metadata": {},
   "outputs": [
    {
     "name": "stdout",
     "output_type": "stream",
     "text": [
      "Keep up the goodwork, Anupriya\n",
      "Looking forward to recieve today's practice file,Anupriya\n",
      "\n",
      "Keep up the goodwork, Piyush\n",
      "Looking forward to recieve today's practice file,Piyush\n",
      "\n",
      "Keep up the goodwork, Yuvi\n",
      "Looking forward to recieve today's practice file,Yuvi\n",
      "\n"
     ]
    }
   ],
   "source": [
    "\n",
    "for x in students:\n",
    "    print(f\"Keep up the goodwork, {x}\") \n",
    "    print(f\"Looking forward to recieve today's practice file,{x}\\n\")"
   ]
  },
  {
   "cell_type": "code",
   "execution_count": 14,
   "id": "e782975a",
   "metadata": {},
   "outputs": [
    {
     "name": "stdout",
     "output_type": "stream",
     "text": [
      "Keep up the goodwork, Anupriya\n",
      "Looking forward to recieve today's practice file,Anupriya\n",
      "\n",
      "Keep up the goodwork, Piyush\n",
      "Looking forward to recieve today's practice file,Piyush\n",
      "\n",
      "Keep up the goodwork, Yuvi\n",
      "Looking forward to recieve today's practice file,Yuvi\n",
      "\n",
      "Thank you all for joining the session today! :)\n"
     ]
    }
   ],
   "source": [
    "#writing in the loop: --> Applied to all the elements in the list.\n",
    "#writing out of the loop: --> applied only once for all elements\n",
    "for x in students:\n",
    "    print(f\"Keep up the goodwork, {x}\")  #inside loop (printed each time)\n",
    "    print(f\"Looking forward to recieve today's practice file,{x}\\n\") #inside loop (printed each time)\n",
    "print(\"Thank you all for joining the session today! :)\") #outside loop (printed just once)"
   ]
  },
  {
   "cell_type": "code",
   "execution_count": null,
   "id": "86348b93",
   "metadata": {},
   "outputs": [],
   "source": []
  }
 ],
 "metadata": {
  "kernelspec": {
   "display_name": "Python 3",
   "language": "python",
   "name": "python3"
  },
  "language_info": {
   "codemirror_mode": {
    "name": "ipython",
    "version": 3
   },
   "file_extension": ".py",
   "mimetype": "text/x-python",
   "name": "python",
   "nbconvert_exporter": "python",
   "pygments_lexer": "ipython3",
   "version": "3.8.8"
  }
 },
 "nbformat": 4,
 "nbformat_minor": 5
}
