{
 "cells": [
  {
   "cell_type": "code",
   "execution_count": null,
   "id": "4f221b2f",
   "metadata": {},
   "outputs": [],
   "source": [
    "Understanding Variables in Python:"
   ]
  },
  {
   "cell_type": "code",
   "execution_count": null,
   "id": "a5b4aadf",
   "metadata": {},
   "outputs": [],
   "source": [
    "Rule No.1 : No spaces in between the name of variable. "
   ]
  },
  {
   "cell_type": "code",
   "execution_count": null,
   "id": "3474b499",
   "metadata": {},
   "outputs": [],
   "source": [
    "Rule No.2 : Variable name should not start with number."
   ]
  },
  {
   "cell_type": "code",
   "execution_count": null,
   "id": "c6ed45b2",
   "metadata": {},
   "outputs": [],
   "source": [
    "Rule No.3 : Variable name should not contain any special character. (Except underscore '_')"
   ]
  },
  {
   "cell_type": "code",
   "execution_count": null,
   "id": "c170c0e8",
   "metadata": {},
   "outputs": [],
   "source": [
    "Introduction to Data Types in Python:\n",
    "    1. String --> str\n",
    "    2. Numbers (Integer --> int and Float --> float)\n",
    "    3. List --> list\n",
    "    4. Tuple --> tuple\n",
    "    4. Dictionary --> dict"
   ]
  },
  {
   "cell_type": "code",
   "execution_count": null,
   "id": "759cb475",
   "metadata": {},
   "outputs": [],
   "source": [
    "Classification of Data Types:\n",
    "    1. Mutable Datatype --> can be altered once it is created. --> Flexible\n",
    "    2. Immutable Datatype --> can not be altered once declared. --> Fixed"
   ]
  },
  {
   "cell_type": "code",
   "execution_count": null,
   "id": "b3ba13c6",
   "metadata": {},
   "outputs": [],
   "source": [
    "String Data Type: A series of characters enclosed in quotes. --> IMMUTABLE \n",
    "    \n",
    "How to declare string:\n",
    "1. SIngle Quotes\n",
    "2. Double Quotes\n",
    "3. Triple Quotes\n",
    "\n",
    "Example Below -->"
   ]
  },
  {
   "cell_type": "code",
   "execution_count": 5,
   "id": "c1683241",
   "metadata": {},
   "outputs": [
    {
     "name": "stdout",
     "output_type": "stream",
     "text": [
      "Piyush\n",
      "Anupriya\n",
      "Yuvi\n"
     ]
    }
   ],
   "source": [
    "name='Piyush'\n",
    "name2=\"Anupriya\"\n",
    "name3=\"\"\"Yuvi\"\"\"\n",
    "print(name)\n",
    "print(name2)\n",
    "print(name3)"
   ]
  },
  {
   "cell_type": "code",
   "execution_count": null,
   "id": "2cea4684",
   "metadata": {},
   "outputs": [],
   "source": [
    "Introduction to String Methods:\n",
    "    "
   ]
  },
  {
   "cell_type": "code",
   "execution_count": null,
   "id": "9ce501ba",
   "metadata": {},
   "outputs": [],
   "source": [
    "1. Type : Used to check and validate data type."
   ]
  },
  {
   "cell_type": "code",
   "execution_count": 6,
   "id": "1132994c",
   "metadata": {},
   "outputs": [
    {
     "data": {
      "text/plain": [
       "str"
      ]
     },
     "execution_count": 6,
     "metadata": {},
     "output_type": "execute_result"
    }
   ],
   "source": [
    "type(name)"
   ]
  },
  {
   "cell_type": "code",
   "execution_count": 7,
   "id": "8080652b",
   "metadata": {},
   "outputs": [
    {
     "name": "stdout",
     "output_type": "stream",
     "text": [
      "Piyush Bhardwaj\n"
     ]
    }
   ],
   "source": [
    "2. Title : Convert the initials to Uppercase"
   ]
  },
  {
   "cell_type": "code",
   "execution_count": 8,
   "id": "6e70b165",
   "metadata": {},
   "outputs": [
    {
     "name": "stdout",
     "output_type": "stream",
     "text": [
      "Piyush Bhardwaj\n"
     ]
    }
   ],
   "source": [
    "fullname = 'piyush Bhardwaj'\n",
    "print(fullname.title())"
   ]
  },
  {
   "cell_type": "code",
   "execution_count": null,
   "id": "ef0a30aa",
   "metadata": {},
   "outputs": [],
   "source": [
    "3. Upper : Convert entire string to uppercase."
   ]
  },
  {
   "cell_type": "code",
   "execution_count": 9,
   "id": "97c7fe83",
   "metadata": {},
   "outputs": [
    {
     "name": "stdout",
     "output_type": "stream",
     "text": [
      "PIYUSH BHARDWAJ\n"
     ]
    }
   ],
   "source": [
    "print(fullname.upper())"
   ]
  },
  {
   "cell_type": "code",
   "execution_count": null,
   "id": "f2ff4237",
   "metadata": {},
   "outputs": [],
   "source": [
    "3. Lower : Convert entire string to lowercase."
   ]
  },
  {
   "cell_type": "code",
   "execution_count": 11,
   "id": "db619da5",
   "metadata": {},
   "outputs": [
    {
     "name": "stdout",
     "output_type": "stream",
     "text": [
      "piyush bhardwaj\n"
     ]
    }
   ],
   "source": [
    "print(fullname.lower())"
   ]
  },
  {
   "cell_type": "code",
   "execution_count": null,
   "id": "0ed85a08",
   "metadata": {},
   "outputs": [],
   "source": []
  }
 ],
 "metadata": {
  "kernelspec": {
   "display_name": "Python 3",
   "language": "python",
   "name": "python3"
  },
  "language_info": {
   "codemirror_mode": {
    "name": "ipython",
    "version": 3
   },
   "file_extension": ".py",
   "mimetype": "text/x-python",
   "name": "python",
   "nbconvert_exporter": "python",
   "pygments_lexer": "ipython3",
   "version": "3.8.8"
  }
 },
 "nbformat": 4,
 "nbformat_minor": 5
}
